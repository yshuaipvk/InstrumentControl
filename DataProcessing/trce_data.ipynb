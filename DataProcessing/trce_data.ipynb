{
 "cells": [
  {
   "cell_type": "code",
   "execution_count": null,
   "metadata": {},
   "outputs": [],
   "source": [
    "import numpy as np \n",
    "import pandas as pd\n",
    "import os \n",
    "import re\n",
    "import matplotlib.pyplot as plt\n",
    "import OriginExt as O\n",
    "import numpy as np\n",
    "   \n",
    "\n",
    "root_dir = r\"D:\\ShareCache\\2019000051_袁帅\\manusicrpt_2\\20210514-Control-OCVB\"\n",
    "filenames = os.listdir(root_dir)\n",
    "ionFiles = []\n",
    "for i,filename in  enumerate(filenames):\n",
    "    if re.findall(\"OCVD_ion.txt\",filename):\n",
    "        ionFiles.append(filename)\n",
    "\n",
    "ionFiles"
   ]
  },
  {
   "cell_type": "code",
   "execution_count": null,
   "metadata": {},
   "outputs": [],
   "source": [
    "\n",
    "vrs = []\n",
    "trs = []\n",
    "timeDecays = []\n",
    "Vexs = []\n",
    "df = pd.DataFrame()\n",
    "for i,ionFile in enumerate(ionFiles):\n",
    "    timeDecay = ionFile[:-18]\n",
    "    fileDir = os.path.join(root_dir,ionFile)\n",
    "    data = np.loadtxt(fileDir,delimiter=',')\n",
    "    x = data[:,0]\n",
    "    y = data[:,1]\n",
    "    Vex = y[998]\n",
    "    x = data[1000:,0]\n",
    "    y = data[1000:,1]\n",
    "    Vr = np.max(y)\n",
    "    V23 = (Vr*2)/3\n",
    "    closeValues = np.abs(y-V23)\n",
    "    tr = np.where(closeValues==np.min(closeValues))\n",
    "    \n",
    "    tr = x[tr[0][0]]\n",
    "    trs.append(tr)\n",
    "    vrs.append(Vr)\n",
    "    timeDecays.append(timeDecay)\n",
    "    Vexs.append(Vex)\n",
    "dfFileName = os.path.join(root_dir,'param.csv')\n",
    "df.insert(loc=0,column='Decay Time',value=timeDecays)\n",
    "df.insert(loc=1,column='Vex',value=Vexs)\n",
    "df.insert(loc=2,column='Vr',value=vrs)\n",
    "df.insert(loc=3,column='tr',value=trs)\n",
    "\n",
    "# df.to_csv(dfFileName)\n",
    "df\n",
    "\n"
   ]
  },
  {
   "cell_type": "code",
   "execution_count": 22,
   "metadata": {},
   "outputs": [
    {
     "data": {
      "text/plain": [
       "True"
      ]
     },
     "execution_count": 22,
     "metadata": {},
     "output_type": "execute_result"
    },
    {
     "ename": "",
     "evalue": "",
     "output_type": "error",
     "traceback": [
      "\u001b[1;31mThe Kernel crashed while executing code in the the current cell or a previous cell. Please review the code in the cell(s) to identify a possible cause of the failure. Click <a href='https://aka.ms/vscodeJupyterKernelCrash'>here</a> for more info. View Jupyter <a href='command:jupyter.viewOutput'>log</a> for further details."
     ]
    }
   ],
   "source": [
    "app = O.ApplicationSI();\n",
    "app.Visible = app.MAINWND_SHOW  #创建项目\n",
    "app.Visible = 1\n",
    "pageName=app.CreatePage(app.OPT_WORKSHEET)     #创建worksheet 可在后面加名字 默认为book\n",
    "app.PutPageString(pageName, \"testPageStr\", \"testPageValue\")\n",
    "df = np.array(df)\n",
    "df = np.transpose(df)\n",
    "app.PutWorksheet(pageName,df) \n",
    "app.Save(r\"./tem/test.opju\")\n",
    "app.Exit()"
   ]
  },
  {
   "cell_type": "code",
   "execution_count": 19,
   "metadata": {},
   "outputs": [
    {
     "data": {
      "text/plain": [
       "False"
      ]
     },
     "execution_count": 19,
     "metadata": {},
     "output_type": "execute_result"
    }
   ],
   "source": [
    "import OriginExt as O\n",
    "\n",
    "\n",
    "\n",
    "Oapp = O.Application()\n",
    "name = Oapp.CreatePage(Oapp.OPT_WORKSHEET,\"MyBook\",\"Origin\")\n",
    "Oapp.Visible = 1\n",
    "wbook = Oapp.Pages(name)\n",
    "wks = wbook.Layers(0)\n",
    "for ii in range(0,wks.Columns.Count,1):\n",
    "    tmp = range(0,10)\n",
    "    tmp = [x + ii for x in tmp]\n",
    "    col = wks.Columns(ii)\n",
    "    col.SetData(tmp)\n",
    "Oapp.Save(r'c:\\test\\junk.opju')\n",
    "\n",
    "#need to do this to make sure Origin is closed"
   ]
  },
  {
   "cell_type": "code",
   "execution_count": null,
   "metadata": {},
   "outputs": [],
   "source": []
  }
 ],
 "metadata": {
  "interpreter": {
   "hash": "7db5d4ac65579b4360599a63b81e287ac4a84fc09f481a601fdbcb706a2d733d"
  },
  "kernelspec": {
   "display_name": "Python 3.7.9 ('torch_gpu')",
   "language": "python",
   "name": "python3"
  },
  "language_info": {
   "codemirror_mode": {
    "name": "ipython",
    "version": 3
   },
   "file_extension": ".py",
   "mimetype": "text/x-python",
   "name": "python",
   "nbconvert_exporter": "python",
   "pygments_lexer": "ipython3",
   "version": "3.7.9"
  },
  "orig_nbformat": 4
 },
 "nbformat": 4,
 "nbformat_minor": 2
}
