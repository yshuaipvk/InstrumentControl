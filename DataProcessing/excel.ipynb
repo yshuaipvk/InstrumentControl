{
 "metadata": {
  "language_info": {
   "codemirror_mode": {
    "name": "ipython",
    "version": 3
   },
   "file_extension": ".py",
   "mimetype": "text/x-python",
   "name": "python",
   "nbconvert_exporter": "python",
   "pygments_lexer": "ipython3",
   "version": "3.7.9"
  },
  "orig_nbformat": 4,
  "kernelspec": {
   "name": "python3",
   "display_name": "Python 3.7.9 64-bit ('torch_gpu': conda)"
  },
  "interpreter": {
   "hash": "0dd74531856b648fee9d17954852de53686d1037462bb58f306d6493ef5f194e"
  }
 },
 "nbformat": 4,
 "nbformat_minor": 2,
 "cells": [
  {
   "cell_type": "code",
   "execution_count": 2,
   "metadata": {},
   "outputs": [],
   "source": [
    "import pandas as pd\n",
    "import numpy as np \n",
    "import os "
   ]
  },
  {
   "cell_type": "code",
   "execution_count": 10,
   "metadata": {},
   "outputs": [],
   "source": [
    "root_dir = \"C:/Users/ys/Desktop/1\"\n",
    "file_name = 'cpta_cf.csv'\n",
    "root = os.path.join(root_dir,file_name)\n",
    "df = pd.read_csv(root)\n",
    "data = np.array(df)\n",
    "data = np.transpose(data)\n",
    "out_file = os.path.join(root_dir,'cpta.txt')\n",
    "np.savetxt(out_file,data,delimiter=',')"
   ]
  },
  {
   "cell_type": "code",
   "execution_count": null,
   "metadata": {},
   "outputs": [],
   "source": []
  }
 ]
}