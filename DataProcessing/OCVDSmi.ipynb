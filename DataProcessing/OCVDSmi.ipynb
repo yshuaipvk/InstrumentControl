{
 "cells": [
  {
   "cell_type": "code",
   "execution_count": 3,
   "metadata": {},
   "outputs": [],
   "source": [
    "import numpy as np\n",
    "import pandas as pd \n",
    "import os \n",
    "import matplotlib.pyplot as plt \n",
    "import math"
   ]
  },
  {
   "cell_type": "code",
   "execution_count": 3,
   "metadata": {},
   "outputs": [
    {
     "data": {
      "text/html": [
       "<div>\n",
       "<style scoped>\n",
       "    .dataframe tbody tr th:only-of-type {\n",
       "        vertical-align: middle;\n",
       "    }\n",
       "\n",
       "    .dataframe tbody tr th {\n",
       "        vertical-align: top;\n",
       "    }\n",
       "\n",
       "    .dataframe thead th {\n",
       "        text-align: right;\n",
       "    }\n",
       "</style>\n",
       "<table border=\"1\" class=\"dataframe\">\n",
       "  <thead>\n",
       "    <tr style=\"text-align: right;\">\n",
       "      <th></th>\n",
       "      <th>0</th>\n",
       "      <th>1</th>\n",
       "      <th>2</th>\n",
       "      <th>3</th>\n",
       "      <th>4</th>\n",
       "      <th>5</th>\n",
       "      <th>6</th>\n",
       "      <th>7</th>\n",
       "      <th>8</th>\n",
       "      <th>9</th>\n",
       "      <th>10</th>\n",
       "      <th>11</th>\n",
       "    </tr>\n",
       "  </thead>\n",
       "  <tbody>\n",
       "    <tr>\n",
       "      <th>0</th>\n",
       "      <td>-0.001000</td>\n",
       "      <td>0.0054</td>\n",
       "      <td>-0.1001</td>\n",
       "      <td>0.0054</td>\n",
       "      <td>-2.001</td>\n",
       "      <td>0.0108</td>\n",
       "      <td>-0.001000</td>\n",
       "      <td>-0.000100</td>\n",
       "      <td>-0.1001</td>\n",
       "      <td>-0.04752</td>\n",
       "      <td>-2.001</td>\n",
       "      <td>-0.04886</td>\n",
       "    </tr>\n",
       "    <tr>\n",
       "      <th>1</th>\n",
       "      <td>-0.001000</td>\n",
       "      <td>0.0059</td>\n",
       "      <td>-0.1000</td>\n",
       "      <td>0.0061</td>\n",
       "      <td>-2.000</td>\n",
       "      <td>0.0066</td>\n",
       "      <td>-0.001000</td>\n",
       "      <td>0.000900</td>\n",
       "      <td>-0.1000</td>\n",
       "      <td>-0.04572</td>\n",
       "      <td>-2.000</td>\n",
       "      <td>-0.05066</td>\n",
       "    </tr>\n",
       "    <tr>\n",
       "      <th>2</th>\n",
       "      <td>-0.000999</td>\n",
       "      <td>0.0056</td>\n",
       "      <td>-0.0999</td>\n",
       "      <td>0.0071</td>\n",
       "      <td>-1.999</td>\n",
       "      <td>0.0074</td>\n",
       "      <td>-0.000999</td>\n",
       "      <td>-0.000599</td>\n",
       "      <td>-0.0999</td>\n",
       "      <td>-0.04682</td>\n",
       "      <td>-1.999</td>\n",
       "      <td>-0.04766</td>\n",
       "    </tr>\n",
       "    <tr>\n",
       "      <th>3</th>\n",
       "      <td>-0.000998</td>\n",
       "      <td>0.0090</td>\n",
       "      <td>-0.0998</td>\n",
       "      <td>0.0059</td>\n",
       "      <td>-1.998</td>\n",
       "      <td>0.0064</td>\n",
       "      <td>-0.000998</td>\n",
       "      <td>0.000400</td>\n",
       "      <td>-0.0998</td>\n",
       "      <td>-0.04772</td>\n",
       "      <td>-1.998</td>\n",
       "      <td>-0.04726</td>\n",
       "    </tr>\n",
       "    <tr>\n",
       "      <th>4</th>\n",
       "      <td>-0.000997</td>\n",
       "      <td>0.0051</td>\n",
       "      <td>-0.0997</td>\n",
       "      <td>0.0069</td>\n",
       "      <td>-1.997</td>\n",
       "      <td>0.0066</td>\n",
       "      <td>-0.000997</td>\n",
       "      <td>0.000100</td>\n",
       "      <td>-0.0997</td>\n",
       "      <td>-0.04942</td>\n",
       "      <td>-1.997</td>\n",
       "      <td>-0.05146</td>\n",
       "    </tr>\n",
       "    <tr>\n",
       "      <th>...</th>\n",
       "      <td>...</td>\n",
       "      <td>...</td>\n",
       "      <td>...</td>\n",
       "      <td>...</td>\n",
       "      <td>...</td>\n",
       "      <td>...</td>\n",
       "      <td>...</td>\n",
       "      <td>...</td>\n",
       "      <td>...</td>\n",
       "      <td>...</td>\n",
       "      <td>...</td>\n",
       "      <td>...</td>\n",
       "    </tr>\n",
       "    <tr>\n",
       "      <th>19997</th>\n",
       "      <td>NaN</td>\n",
       "      <td>NaN</td>\n",
       "      <td>NaN</td>\n",
       "      <td>NaN</td>\n",
       "      <td>17.996</td>\n",
       "      <td>0.0174</td>\n",
       "      <td>NaN</td>\n",
       "      <td>NaN</td>\n",
       "      <td>NaN</td>\n",
       "      <td>NaN</td>\n",
       "      <td>17.996</td>\n",
       "      <td>--</td>\n",
       "    </tr>\n",
       "    <tr>\n",
       "      <th>19998</th>\n",
       "      <td>NaN</td>\n",
       "      <td>NaN</td>\n",
       "      <td>NaN</td>\n",
       "      <td>NaN</td>\n",
       "      <td>17.997</td>\n",
       "      <td>0.0166</td>\n",
       "      <td>NaN</td>\n",
       "      <td>NaN</td>\n",
       "      <td>NaN</td>\n",
       "      <td>NaN</td>\n",
       "      <td>17.997</td>\n",
       "      <td>--</td>\n",
       "    </tr>\n",
       "    <tr>\n",
       "      <th>19999</th>\n",
       "      <td>NaN</td>\n",
       "      <td>NaN</td>\n",
       "      <td>NaN</td>\n",
       "      <td>NaN</td>\n",
       "      <td>17.998</td>\n",
       "      <td>0.0178</td>\n",
       "      <td>NaN</td>\n",
       "      <td>NaN</td>\n",
       "      <td>NaN</td>\n",
       "      <td>NaN</td>\n",
       "      <td>17.998</td>\n",
       "      <td>--</td>\n",
       "    </tr>\n",
       "    <tr>\n",
       "      <th>20000</th>\n",
       "      <td>NaN</td>\n",
       "      <td>NaN</td>\n",
       "      <td>NaN</td>\n",
       "      <td>NaN</td>\n",
       "      <td>17.999</td>\n",
       "      <td>0.0180</td>\n",
       "      <td>NaN</td>\n",
       "      <td>NaN</td>\n",
       "      <td>NaN</td>\n",
       "      <td>NaN</td>\n",
       "      <td>17.999</td>\n",
       "      <td>--</td>\n",
       "    </tr>\n",
       "    <tr>\n",
       "      <th>20001</th>\n",
       "      <td>NaN</td>\n",
       "      <td>NaN</td>\n",
       "      <td>NaN</td>\n",
       "      <td>NaN</td>\n",
       "      <td>18.000</td>\n",
       "      <td>0.0202</td>\n",
       "      <td>NaN</td>\n",
       "      <td>NaN</td>\n",
       "      <td>NaN</td>\n",
       "      <td>NaN</td>\n",
       "      <td>18.000</td>\n",
       "      <td>--</td>\n",
       "    </tr>\n",
       "  </tbody>\n",
       "</table>\n",
       "<p>20002 rows × 12 columns</p>\n",
       "</div>"
      ],
      "text/plain": [
       "             0       1       2       3       4       5         6         7   \\\n",
       "0     -0.001000  0.0054 -0.1001  0.0054  -2.001  0.0108 -0.001000 -0.000100   \n",
       "1     -0.001000  0.0059 -0.1000  0.0061  -2.000  0.0066 -0.001000  0.000900   \n",
       "2     -0.000999  0.0056 -0.0999  0.0071  -1.999  0.0074 -0.000999 -0.000599   \n",
       "3     -0.000998  0.0090 -0.0998  0.0059  -1.998  0.0064 -0.000998  0.000400   \n",
       "4     -0.000997  0.0051 -0.0997  0.0069  -1.997  0.0066 -0.000997  0.000100   \n",
       "...         ...     ...     ...     ...     ...     ...       ...       ...   \n",
       "19997       NaN     NaN     NaN     NaN  17.996  0.0174       NaN       NaN   \n",
       "19998       NaN     NaN     NaN     NaN  17.997  0.0166       NaN       NaN   \n",
       "19999       NaN     NaN     NaN     NaN  17.998  0.0178       NaN       NaN   \n",
       "20000       NaN     NaN     NaN     NaN  17.999  0.0180       NaN       NaN   \n",
       "20001       NaN     NaN     NaN     NaN  18.000  0.0202       NaN       NaN   \n",
       "\n",
       "           8        9       10        11  \n",
       "0     -0.1001 -0.04752  -2.001  -0.04886  \n",
       "1     -0.1000 -0.04572  -2.000  -0.05066  \n",
       "2     -0.0999 -0.04682  -1.999  -0.04766  \n",
       "3     -0.0998 -0.04772  -1.998  -0.04726  \n",
       "4     -0.0997 -0.04942  -1.997  -0.05146  \n",
       "...       ...      ...     ...       ...  \n",
       "19997     NaN      NaN  17.996        --  \n",
       "19998     NaN      NaN  17.997        --  \n",
       "19999     NaN      NaN  17.998        --  \n",
       "20000     NaN      NaN  17.999        --  \n",
       "20001     NaN      NaN  18.000        --  \n",
       "\n",
       "[20002 rows x 12 columns]"
      ]
     },
     "execution_count": 3,
     "metadata": {},
     "output_type": "execute_result"
    }
   ],
   "source": [
    "root_Dir= r\"D:\\ShareCache\\2019000051_袁帅\\manusicrpt_2\\OCVD_data.csv\"\n",
    "df = pd.read_csv(root_Dir,header=None)\n",
    "df"
   ]
  },
  {
   "cell_type": "code",
   "execution_count": 11,
   "metadata": {},
   "outputs": [
    {
     "data": {
      "text/plain": [
       "<module 'matplotlib.pyplot' from 'd:\\\\Program Files\\\\Miniconda3\\\\envs\\\\python\\\\lib\\\\site-packages\\\\matplotlib\\\\pyplot.py'>"
      ]
     },
     "execution_count": 11,
     "metadata": {},
     "output_type": "execute_result"
    },
    {
     "data": {
      "image/png": "[encoded data removed]",
      "text/plain": [
       "<Figure size 432x288 with 1 Axes>"
      ]
     },
     "metadata": {
      "needs_background": "light"
     },
     "output_type": "display_data"
    }
   ],
   "source": [
    "x0 = np.array([0])\n",
    "y0 = np.array([0])\n",
    "for i in range(3):\n",
    "    x = df[2*i]\n",
    "    x = x.dropna()\n",
    "    y = df[2*i+1]\n",
    "    y = y.dropna()\n",
    "    x0 = np.concatenate((x0,x))\n",
    "    y0 = np.concatenate((y0,y))\n",
    "x0 = x0[1:30000]\n",
    "y0 = y0[1:30000]\n",
    "plt.semilogx(x0,y0)\n",
    "plt"
   ]
  },
  {
   "cell_type": "code",
   "execution_count": 13,
   "metadata": {},
   "outputs": [],
   "source": [
    "data = np.array([x0,y0])\n",
    "data = np.transpose(data)\n",
    "data = data[np.argsort(data[:,0])]\n",
    "data.shape\n",
    "np.savetxt(X=data,fname=\"ocvd.csv\",delimiter=\",\",fmt=\"%.10f\")"
   ]
  },
  {
   "cell_type": "code",
   "execution_count": 34,
   "metadata": {},
   "outputs": [],
   "source": [
    "def c3e3(x,y0,A1,t1,A2,t2,A3,t3):\n",
    "    return y0 + A1*np.exp(-x/t1)+A2*np.exp(-x/t2)+A3*np.exp(-x/t3)\n",
    "    \n",
    "def c2e2(x,y0,A1,t1,A2,t2):\n",
    "    return y0 + A1*np.exp(-x/t1)+A2*np.exp(-x/t2)\n",
    "def c1e1(x,y0,A1,t1):\n",
    "    return y0 + A1*np.exp(-x/t1)\n"
   ]
  },
  {
   "cell_type": "code",
   "execution_count": 35,
   "metadata": {},
   "outputs": [],
   "source": [
    "time0 = []\n",
    "for i in range(7):\n",
    "    for j in range(9):\n",
    "        x = (j+1)*pow(10,-i)\n",
    "        time0.append(x)\n",
    "time0 = np.array(time0)\n"
   ]
  },
  {
   "cell_type": "code",
   "execution_count": 41,
   "metadata": {},
   "outputs": [
    {
     "data": {
      "text/plain": [
       "<module 'matplotlib.pyplot' from 'd:\\\\Program Files\\\\Miniconda3\\\\envs\\\\python\\\\lib\\\\site-packages\\\\matplotlib\\\\pyplot.py'>"
      ]
     },
     "execution_count": 41,
     "metadata": {},
     "output_type": "execute_result"
    },
    {
     "data": {
      "image/png": "[encoded data removed]",
      "text/plain": [
       "<Figure size 432x288 with 1 Axes>"
      ]
     },
     "metadata": {
      "needs_background": "light"
     },
     "output_type": "display_data"
    }
   ],
   "source": [
    "controly = c1e1(time0,0.4,-0.4,5E-5,)\n",
    "plt.semilogx(time0,controly,'bo')\n",
    "plt"
   ]
  },
  {
   "cell_type": "code",
   "execution_count": null,
   "metadata": {},
   "outputs": [],
   "source": []
  }
 ],
 "metadata": {
  "kernelspec": {
   "display_name": "Python 3.8.10 ('python')",
   "language": "python",
   "name": "python3"
  },
  "language_info": {
   "codemirror_mode": {
    "name": "ipython",
    "version": 3
   },
   "file_extension": ".py",
   "mimetype": "text/x-python",
   "name": "python",
   "nbconvert_exporter": "python",
   "pygments_lexer": "ipython3",
   "version": "3.8.10"
  },
  "orig_nbformat": 4,
  "vscode": {
   "interpreter": {
    "hash": "a8884f0eddaf6dff43bdfc2178d77e9def031558456cde1741b95d75dafe2700"
   }
  }
 },
 "nbformat": 4,
 "nbformat_minor": 2
}
